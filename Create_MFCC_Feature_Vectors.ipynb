{
  "nbformat": 4,
  "nbformat_minor": 0,
  "metadata": {
    "colab": {
      "name": "Create_MFCC_Feature_Vectors.ipynb",
      "provenance": [],
      "collapsed_sections": []
    },
    "kernelspec": {
      "name": "python3",
      "display_name": "Python 3"
    }
  },
  "cells": [
    {
      "cell_type": "markdown",
      "metadata": {
        "id": "DTq521bd6e2L",
        "colab_type": "text"
      },
      "source": [
        "# Data Preparation\n",
        "\n",
        "\n"
      ]
    },
    {
      "cell_type": "code",
      "metadata": {
        "id": "F5VJnPTny_cr",
        "colab_type": "code",
        "colab": {}
      },
      "source": [
        "from google.colab import drive\n",
        "drive.mount('/content/drive')"
      ],
      "execution_count": 0,
      "outputs": []
    },
    {
      "cell_type": "markdown",
      "metadata": {
        "id": "QmFYxpBW1Pn1",
        "colab_type": "text"
      },
      "source": [
        "For cycling through wav files and making a MFCC feature vector for each audio file. Need to upload the MFCC.py file to the content folder"
      ]
    },
    {
      "cell_type": "code",
      "metadata": {
        "id": "w-SymF_w-Xdu",
        "colab_type": "code",
        "colab": {}
      },
      "source": [
        "import sys\n",
        "import os\n",
        "import shutil\n",
        "import MFCC\n",
        "import pickle\n",
        "\n",
        "# Directory to the parent directory containing the raw audio data\n",
        "# To access specific species recording, append the species name to this path\n",
        "DATA_DIR = \"/content/drive/My Drive/498L Project/data/\"\n",
        "\n",
        "# list of species names we will be classifying.\n",
        "\n",
        "SPECIES_LIST = [\"Parus major\", \"Phylloscopus collybita\", \"Baeolophus bicolor\", \"Melospiza melodia\", \"Cardinalis cardinalis\", \"Hirundo rustica\", \"Zenaida macroura\",\n",
        "                \"Spinus tristis\", \"Icterus galbula\", \"Sturnella magna\", \"Thryothorus ludovicianus\", \"Passer domesticus\", \"Poecile atricapillus\", \n",
        "                \"Turdus migratorius\", \"Cyanistes caeruleus\",\"Loxia curvirostra\", \"Passer montanus\", \"Sylvia atricapilla\", \"Sylvia communis\"]            \n",
        "\n",
        "for species in SPECIES_LIST:\n",
        "  print(\"STARTING: \" + species)\n",
        "  # create the required paths\n",
        "  species_dir = os.path.join(DATA_DIR, species)\n",
        "  #feature_dir = os.path.join(species_dir, \"feature vectors\")\n",
        "  feature_dir = os.path.join(species_dir, \"mfcc vectors\")\n",
        "  # check if the spectro_dir already exists\n",
        "  if not os.path.exists(feature_dir):\n",
        "    os.makedirs(feature_dir)\n",
        "  \n",
        "  # walk through the species dir\n",
        "  wav_dir = species_dir + \"/wav\"\n",
        "  wav_files = os.listdir(wav_dir)\n",
        "\n",
        "  i = 0\n",
        "  length = len(wav_files)\n",
        "  #Compute Feature Vector\n",
        "  for file in wav_files:\n",
        "    mfcc = MFCC.mfcc(wav_dir + \"/\" + file, user=True)\n",
        "    file_name = file.replace(\".wav\", '.p')\n",
        "    file_path = feature_dir + \"/\" + file_name\n",
        "    if (mfcc is None):\n",
        "      print(file_name + \" was less than 15 seconds\")\n",
        "      continue\n",
        "    with open(file_path,'wb') as f:\n",
        "      pickle.dump(mfcc, f)\n",
        "    print(\"Finished:\" + file_name + \" %i of %i\"%(i,length))\n",
        "    i = i + 1\n",
        "  print(\"FINISHED \" + species)\n"
      ],
      "execution_count": 0,
      "outputs": []
    },
    {
      "cell_type": "markdown",
      "metadata": {
        "id": "sE-6VI5darpc",
        "colab_type": "text"
      },
      "source": [
        "Loop to combine the feature vectors from each species into Yx1500x20 tensors"
      ]
    },
    {
      "cell_type": "code",
      "metadata": {
        "id": "R3FufzQma7IG",
        "colab_type": "code",
        "colab": {}
      },
      "source": [
        "import sys\n",
        "import os\n",
        "import shutil\n",
        "import pickle\n",
        "import numpy as np\n",
        "\n",
        "# Directory to the parent directory containing the raw audio data\n",
        "# To access specific species recording, append the species name to this path\n",
        "DATA_DIR = \"/content/drive/My Drive/498L Project/data/\"\n",
        "\n",
        "# list of species names we will be classifying.\n",
        "SPECIES_LIST = [\"Parus major\", \"Phylloscopus collybita\", \"Baeolophus bicolor\", \"Melospiza melodia\", \"Cardinalis cardinalis\", \"Hirundo rustica\", \"Zenaida macroura\",\n",
        "                \"Spinus tristis\", \"Icterus galbula\", \"Sturnella magna\", \"Thryothorus ludovicianus\", \"Passer domesticus\", \"Poecile atricapillus\", \n",
        "                \"Turdus migratorius\", \"Cyanistes caeruleus\",\"Loxia curvirostra\", \"Passer montanus\", \"Sylvia atricapilla\", \"Sylvia communis\"]            \n",
        "\n",
        "for species in SPECIES_LIST:\n",
        "  print(\"STARTING: \" + species)\n",
        "  # create the required paths\n",
        "  species_dir = os.path.join(DATA_DIR, species)\n",
        "  tensor_dir = os.path.join(species_dir, \"MFCC Tensor\")\n",
        "  feature_dir = os.path.join(species_dir, \"mfcc vectors\"))\n",
        "  # check if the spectro_dir already exists\n",
        "  if not os.path.exists(tensor_dir):\n",
        "    os.makedirs(tensor_dir)\n",
        "  feature_files = os.listdir(feature_dir)\n",
        "\n",
        "  tensor = []\n",
        "  length = len(feature_files)\n",
        "  for feature in feature_files:\n",
        "    feat = pickle.load( open( feature_dir + \"/\" + feature, \"rb\" ) )\n",
        "    tensor.append(feat)\n",
        "    \n",
        "  tensor = np.array(tensor)\n",
        "  with open(tensor_dir + \"/feature_tensor.p\",'wb') as f:\n",
        "      pickle.dump(tensor, f)\n",
        "  print(len(tensor))\n",
        "  print(\"FINISHED \" + species)"
      ],
      "execution_count": 0,
      "outputs": []
    }
  ]
}